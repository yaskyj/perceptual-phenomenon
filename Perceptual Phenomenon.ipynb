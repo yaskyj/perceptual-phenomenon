{
 "cells": [
  {
   "cell_type": "code",
   "execution_count": 2,
   "metadata": {
    "collapsed": true
   },
   "outputs": [],
   "source": [
    "import numpy as np\n",
    "import pandas as pd\n",
    "from scipy import stats\n",
    "import matplotlib.pyplot as plt\n",
    "import seaborn as sns\n",
    "%matplotlib inline"
   ]
  },
  {
   "cell_type": "markdown",
   "metadata": {},
   "source": [
    "**1. What is our independent variable? What is our dependent variable?**<br>\n",
    "The independent variable is whether the word is congruent or incongruent.<br>\n",
    "The dependent variable is time is takes to name the ink colors."
   ]
  },
  {
   "cell_type": "markdown",
   "metadata": {},
   "source": [
    "**2. What is an appropriate set of hypotheses for this task? What kind of statistical test do you expect to perform? Justify your choices.**<br>\n",
    "Null hypotheses states that both means are the same while the alternative hypotheses states that the two means are not equal.\n",
    "\n",
    "$H_{0}: \\mu_{\\bar{x}} = \\mu_{\\bar{y}}$\n",
    "\n",
    "$H_{a}: \\mu_{\\bar{x}} \\neq \\mu_{\\bar{y}}$\n",
    "\n",
    "I will perform a two-tailed test as it's the most convervative and in case I'm wrong about the prediction of the incongruent words having a greater mean time."
   ]
  },
  {
   "cell_type": "code",
   "execution_count": 3,
   "metadata": {
    "collapsed": true
   },
   "outputs": [],
   "source": [
    "#Read the data into a dataframe\n",
    "data = pd.read_csv('stroopdata.csv')"
   ]
  },
  {
   "cell_type": "code",
   "execution_count": 4,
   "metadata": {
    "collapsed": false
   },
   "outputs": [
    {
     "data": {
      "text/html": [
       "<div>\n",
       "<table border=\"1\" class=\"dataframe\">\n",
       "  <thead>\n",
       "    <tr style=\"text-align: right;\">\n",
       "      <th></th>\n",
       "      <th>Congruent</th>\n",
       "      <th>Incongruent</th>\n",
       "    </tr>\n",
       "  </thead>\n",
       "  <tbody>\n",
       "    <tr>\n",
       "      <th>0</th>\n",
       "      <td>12.079</td>\n",
       "      <td>19.278</td>\n",
       "    </tr>\n",
       "    <tr>\n",
       "      <th>1</th>\n",
       "      <td>16.791</td>\n",
       "      <td>18.741</td>\n",
       "    </tr>\n",
       "    <tr>\n",
       "      <th>2</th>\n",
       "      <td>9.564</td>\n",
       "      <td>21.214</td>\n",
       "    </tr>\n",
       "    <tr>\n",
       "      <th>3</th>\n",
       "      <td>8.630</td>\n",
       "      <td>15.687</td>\n",
       "    </tr>\n",
       "    <tr>\n",
       "      <th>4</th>\n",
       "      <td>14.669</td>\n",
       "      <td>22.803</td>\n",
       "    </tr>\n",
       "  </tbody>\n",
       "</table>\n",
       "</div>"
      ],
      "text/plain": [
       "   Congruent  Incongruent\n",
       "0     12.079       19.278\n",
       "1     16.791       18.741\n",
       "2      9.564       21.214\n",
       "3      8.630       15.687\n",
       "4     14.669       22.803"
      ]
     },
     "execution_count": 4,
     "metadata": {},
     "output_type": "execute_result"
    }
   ],
   "source": [
    "data.head()"
   ]
  },
  {
   "cell_type": "code",
   "execution_count": 5,
   "metadata": {
    "collapsed": false
   },
   "outputs": [
    {
     "data": {
      "text/plain": [
       "0    12.079\n",
       "1    16.791\n",
       "2     9.564\n",
       "3     8.630\n",
       "4    14.669\n",
       "Name: Congruent, dtype: float64"
      ]
     },
     "execution_count": 5,
     "metadata": {},
     "output_type": "execute_result"
    }
   ],
   "source": [
    "data['Congruent'].head()"
   ]
  },
  {
   "cell_type": "code",
   "execution_count": 6,
   "metadata": {
    "collapsed": false
   },
   "outputs": [
    {
     "name": "stdout",
     "output_type": "stream",
     "text": [
      "For the congruent words: the mean is 14.051125, the median is 14.356500, and the variance is 12.6690.\n"
     ]
    }
   ],
   "source": [
    "#Calculate mean, median, and the variance of the congruent words\n",
    "con_me = data['Congruent'].mean()\n",
    "con_med = data['Congruent'].median()\n",
    "con_var = data['Congruent'].var()\n",
    "print(\"For the congruent words: the mean is %.6f, the median is %.6f, and the variance is %.4f.\" % (con_me, con_med, con_var))"
   ]
  },
  {
   "cell_type": "code",
   "execution_count": 7,
   "metadata": {
    "collapsed": false
   },
   "outputs": [
    {
     "name": "stdout",
     "output_type": "stream",
     "text": [
      "For the incongruent words: the mean is 22.015917, the median is 21.017500, and the variance is 23.0118.\n"
     ]
    }
   ],
   "source": [
    "#Calculate mean, median, and the variance of the incongruent words\n",
    "inc_me = data['Incongruent'].mean()\n",
    "inc_med = data['Incongruent'].median()\n",
    "inc_var = data['Incongruent'].var()\n",
    "print(\"For the incongruent words: the mean is %.6f, the median is %.6f, and the variance is %.4f.\" % (inc_me, inc_med, inc_var))"
   ]
  },
  {
   "cell_type": "code",
   "execution_count": null,
   "metadata": {
    "collapsed": true
   },
   "outputs": [],
   "source": []
  }
 ],
 "metadata": {
  "kernelspec": {
   "display_name": "Python 2",
   "language": "python",
   "name": "python2"
  },
  "language_info": {
   "codemirror_mode": {
    "name": "ipython",
    "version": 2
   },
   "file_extension": ".py",
   "mimetype": "text/x-python",
   "name": "python",
   "nbconvert_exporter": "python",
   "pygments_lexer": "ipython2",
   "version": "2.7.13"
  }
 },
 "nbformat": 4,
 "nbformat_minor": 2
}

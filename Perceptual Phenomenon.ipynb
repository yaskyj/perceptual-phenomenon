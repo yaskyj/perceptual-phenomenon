{
 "cells": [
  {
   "cell_type": "code",
   "execution_count": 2,
   "metadata": {
    "collapsed": true
   },
   "outputs": [],
   "source": [
    "import numpy as np\n",
    "import pandas as pd\n",
    "from scipy import stats\n",
    "import matplotlib.pyplot as plt\n",
    "import seaborn as sns\n",
    "%matplotlib inline"
   ]
  },
  {
   "cell_type": "markdown",
   "metadata": {},
   "source": [
    "## **1. What is our independent variable? What is our dependent variable?**\n",
    "The independent variable is whether the word is congruent or incongruent.<br>\n",
    "The dependent variable is time is takes to name the ink colors."
   ]
  },
  {
   "cell_type": "markdown",
   "metadata": {},
   "source": [
    "## **2. What is an appropriate set of hypotheses for this task? What kind of statistical test do you expect to perform? Justify your choices.**\n",
    "Null hypotheses states that both means are the same while the alternative hypotheses states that the two means are not equal.\n",
    "\n",
    "$H_{0}: \\mu_{\\bar{x}} = \\mu_{\\bar{y}}$\n",
    "\n",
    "$H_{a}: \\mu_{\\bar{x}} \\neq \\mu_{\\bar{y}}$\n",
    "\n",
    "I will perform a dependent t-test since the same subject is taking a test based on the same number of congruent and incongruent words."
   ]
  },
  {
   "cell_type": "markdown",
   "metadata": {},
   "source": [
    "## **3. Report some descriptive statistics regarding this dataset. Include at least one measure of central tendency and at least one measure of variability.**"
   ]
  },
  {
   "cell_type": "code",
   "execution_count": 3,
   "metadata": {
    "collapsed": true
   },
   "outputs": [],
   "source": [
    "#Read the data into a dataframe\n",
    "data = pd.read_csv('stroopdata.csv')"
   ]
  },
  {
   "cell_type": "code",
   "execution_count": 8,
   "metadata": {
    "collapsed": false
   },
   "outputs": [
    {
     "name": "stdout",
     "output_type": "stream",
     "text": [
      "For the congruent words: the mean is 14.05, the median is 14.36, and the variance is 12.67.\n"
     ]
    }
   ],
   "source": [
    "#Calculate mean, median, and the variance of the congruent words\n",
    "con_me = data['Congruent'].mean()\n",
    "con_med = data['Congruent'].median()\n",
    "con_var = data['Congruent'].var()\n",
    "print(\"For the congruent words: the mean is %.2f, the median is %.2f, and the variance is %.2f.\" % (con_me, con_med, con_var))"
   ]
  },
  {
   "cell_type": "code",
   "execution_count": 9,
   "metadata": {
    "collapsed": false
   },
   "outputs": [
    {
     "name": "stdout",
     "output_type": "stream",
     "text": [
      "For the incongruent words: the mean is 22.02, the median is 21.02, and the variance is 23.01.\n"
     ]
    }
   ],
   "source": [
    "#Calculate mean, median, and the variance of the incongruent words\n",
    "inc_me = data['Incongruent'].mean()\n",
    "inc_med = data['Incongruent'].median()\n",
    "inc_var = data['Incongruent'].var()\n",
    "print(\"For the incongruent words: the mean is %.2f, the median is %.2f, and the variance is %.2f.\" % (inc_me, inc_med, inc_var))"
   ]
  },
  {
   "cell_type": "markdown",
   "metadata": {},
   "source": [
    "## **4. Provide one or two visualizations that show the distribution of the sample data. Write one or two sentences noting what you observe about the plot or plots.**\n",
    "From the plots below, it definitely appears that the congruent data has a more normalized distribution. "
   ]
  },
  {
   "cell_type": "code",
   "execution_count": 38,
   "metadata": {
    "collapsed": false
   },
   "outputs": [
    {
     "data": {
      "image/png": "[encoded data removed]",
      "text/plain": [
       "<matplotlib.figure.Figure at 0x117923e90>"
      ]
     },
     "metadata": {},
     "output_type": "display_data"
    }
   ],
   "source": [
    "#Plot histogram of congruent times\n",
    "plt.hist(data.Congruent, bins=10);"
   ]
  },
  {
   "cell_type": "code",
   "execution_count": 39,
   "metadata": {
    "collapsed": false
   },
   "outputs": [
    {
     "data": {
      "image/png": "[encoded data removed]",
      "text/plain": [
       "<matplotlib.figure.Figure at 0x117b9a9d0>"
      ]
     },
     "metadata": {},
     "output_type": "display_data"
    }
   ],
   "source": [
    "#Plot histogram of incongruent times\n",
    "plt.hist(data.Incongruent, bins=10);"
   ]
  },
  {
   "cell_type": "code",
   "execution_count": null,
   "metadata": {
    "collapsed": true
   },
   "outputs": [],
   "source": []
  }
 ],
 "metadata": {
  "kernelspec": {
   "display_name": "Python 2",
   "language": "python",
   "name": "python2"
  },
  "language_info": {
   "codemirror_mode": {
    "name": "ipython",
    "version": 2
   },
   "file_extension": ".py",
   "mimetype": "text/x-python",
   "name": "python",
   "nbconvert_exporter": "python",
   "pygments_lexer": "ipython2",
   "version": "2.7.13"
  }
 },
 "nbformat": 4,
 "nbformat_minor": 2
}

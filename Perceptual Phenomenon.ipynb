{
 "cells": [
  {
   "cell_type": "code",
   "execution_count": 1,
   "metadata": {
    "collapsed": true
   },
   "outputs": [],
   "source": [
    "#Basic import statements\n",
    "import numpy as np\n",
    "import pandas as pd\n",
    "import matplotlib.pyplot as plt\n",
    "%matplotlib inline"
   ]
  },
  {
   "cell_type": "markdown",
   "metadata": {},
   "source": [
    "## **1. What is our independent variable? What is our dependent variable?**\n",
    "The independent variable is whether the word is congruent or incongruent.<br>\n",
    "The dependent variable is time is takes to name the ink colors."
   ]
  },
  {
   "cell_type": "markdown",
   "metadata": {},
   "source": [
    "## **2. What is an appropriate set of hypotheses for this task? What kind of statistical test do you expect to perform? Justify your choices.**\n",
    "\n",
    "1. $H_{0}: \\mu_{\\bar{x}} = \\mu_{\\bar{y}}$\n",
    "2. The null hypothesis ($H_{0}$) states that there is no difference between incongruent and congruent population mean times.\n",
    "3. $\\mu_{\\bar{x}}$ denotes incongruent population mean and $\\mu_{\\bar{y}}$ denotes congruent population mean.\n",
    "\n",
    "\n",
    "1. $H_{a}: \\mu_{\\bar{x}} \\neq \\mu_{\\bar{y}}$\n",
    "2. The alternative hypothesis ($H_{a}$) states that there is a difference between incongruent and congruent population mean times.\n",
    "3. $\\mu_{\\bar{x}}$ denotes incongruent population mean and $\\mu_{\\bar{y}}$ denotes congruent population mean.\n",
    "\n",
    "I will perform a dependent t-test since the same subject is taking a test based on the same number of congruent and incongruent words, there is a small sample size $(n<30)$, and the population standard deviation is unknown."
   ]
  },
  {
   "cell_type": "markdown",
   "metadata": {},
   "source": [
    "## **3. Report some descriptive statistics regarding this dataset. Include at least one measure of central tendency and at least one measure of variability.**"
   ]
  },
  {
   "cell_type": "code",
   "execution_count": 2,
   "metadata": {
    "collapsed": true
   },
   "outputs": [],
   "source": [
    "#Read the data into a dataframe\n",
    "data = pd.read_csv('stroopdata.csv')"
   ]
  },
  {
   "cell_type": "code",
   "execution_count": 3,
   "metadata": {
    "collapsed": false
   },
   "outputs": [
    {
     "name": "stdout",
     "output_type": "stream",
     "text": [
      "For the congruent words: the mean is 14.05, the median is 14.36, and the variance is 12.67.\n"
     ]
    }
   ],
   "source": [
    "#Calculate mean, median, and the variance of the congruent words\n",
    "con_me = data['Congruent'].mean()\n",
    "con_med = data['Congruent'].median()\n",
    "con_var = data['Congruent'].var()\n",
    "print(\"For the congruent words: the mean is %.2f, the median is %.2f, and the variance is %.2f.\" % (con_me, con_med, con_var))"
   ]
  },
  {
   "cell_type": "code",
   "execution_count": 4,
   "metadata": {
    "collapsed": false
   },
   "outputs": [
    {
     "name": "stdout",
     "output_type": "stream",
     "text": [
      "For the incongruent words: the mean is 22.02, the median is 21.02, and the variance is 23.01.\n"
     ]
    }
   ],
   "source": [
    "#Calculate mean, median, and the variance of the incongruent words\n",
    "inc_me = data['Incongruent'].mean()\n",
    "inc_med = data['Incongruent'].median()\n",
    "inc_var = data['Incongruent'].var()\n",
    "print(\"For the incongruent words: the mean is %.2f, the median is %.2f, and the variance is %.2f.\" % (inc_me, inc_med, inc_var))"
   ]
  },
  {
   "cell_type": "markdown",
   "metadata": {},
   "source": [
    "## **4. Provide one or two visualizations that show the distribution of the sample data. Write one or two sentences noting what you observe about the plot or plots.**\n",
    "From the plots below, it definitely appears that the congruent data has a more normalized distribution. "
   ]
  },
  {
   "cell_type": "code",
   "execution_count": 5,
   "metadata": {
    "collapsed": false
   },
   "outputs": [
    {
     "data": {
      "image/png": "[encoded data removed]",
      "text/plain": [
       "<matplotlib.figure.Figure at 0x110b38f90>"
      ]
     },
     "metadata": {},
     "output_type": "display_data"
    }
   ],
   "source": [
    "#Plot histogram of congruent times\n",
    "plt.hist(data.Congruent, bins=10);"
   ]
  },
  {
   "cell_type": "code",
   "execution_count": 6,
   "metadata": {
    "collapsed": false
   },
   "outputs": [
    {
     "data": {
      "image/png": "[encoded data removed]",
      "text/plain": [
       "<matplotlib.figure.Figure at 0x110aaffd0>"
      ]
     },
     "metadata": {},
     "output_type": "display_data"
    }
   ],
   "source": [
    "#Plot histogram of incongruent times\n",
    "plt.hist(data.Incongruent, bins=10);"
   ]
  },
  {
   "cell_type": "markdown",
   "metadata": {},
   "source": [
    "## 5. Now, perform the statistical test and report your results. What is your confidence level and your critical statistic value? Do you reject the null hypothesis or fail to reject it? Come to a conclusion in terms of the experiment task. Did the results match up with your expectations?"
   ]
  },
  {
   "cell_type": "markdown",
   "metadata": {},
   "source": [
    "**Calculation of the t-statistic**\n",
    "# $t = \\frac{\\mu_{\\bar{x}} - \\mu_{\\bar{y}}}{\\frac{S}{\\sqrt{n}}}$"
   ]
  },
  {
   "cell_type": "code",
   "execution_count": 7,
   "metadata": {
    "collapsed": false
   },
   "outputs": [],
   "source": [
    "#Calculate a new column for the differences\n",
    "data['diff'] = data.Congruent - data.Incongruent"
   ]
  },
  {
   "cell_type": "code",
   "execution_count": 8,
   "metadata": {
    "collapsed": false
   },
   "outputs": [
    {
     "data": {
      "text/html": [
       "<div>\n",
       "<table border=\"1\" class=\"dataframe\">\n",
       "  <thead>\n",
       "    <tr style=\"text-align: right;\">\n",
       "      <th></th>\n",
       "      <th>Congruent</th>\n",
       "      <th>Incongruent</th>\n",
       "      <th>diff</th>\n",
       "    </tr>\n",
       "  </thead>\n",
       "  <tbody>\n",
       "    <tr>\n",
       "      <th>0</th>\n",
       "      <td>12.079</td>\n",
       "      <td>19.278</td>\n",
       "      <td>-7.199</td>\n",
       "    </tr>\n",
       "    <tr>\n",
       "      <th>1</th>\n",
       "      <td>16.791</td>\n",
       "      <td>18.741</td>\n",
       "      <td>-1.950</td>\n",
       "    </tr>\n",
       "    <tr>\n",
       "      <th>2</th>\n",
       "      <td>9.564</td>\n",
       "      <td>21.214</td>\n",
       "      <td>-11.650</td>\n",
       "    </tr>\n",
       "    <tr>\n",
       "      <th>3</th>\n",
       "      <td>8.630</td>\n",
       "      <td>15.687</td>\n",
       "      <td>-7.057</td>\n",
       "    </tr>\n",
       "    <tr>\n",
       "      <th>4</th>\n",
       "      <td>14.669</td>\n",
       "      <td>22.803</td>\n",
       "      <td>-8.134</td>\n",
       "    </tr>\n",
       "  </tbody>\n",
       "</table>\n",
       "</div>"
      ],
      "text/plain": [
       "   Congruent  Incongruent    diff\n",
       "0     12.079       19.278  -7.199\n",
       "1     16.791       18.741  -1.950\n",
       "2      9.564       21.214 -11.650\n",
       "3      8.630       15.687  -7.057\n",
       "4     14.669       22.803  -8.134"
      ]
     },
     "execution_count": 8,
     "metadata": {},
     "output_type": "execute_result"
    }
   ],
   "source": [
    "data.head()"
   ]
  },
  {
   "cell_type": "markdown",
   "metadata": {},
   "source": [
    "**Calculate the t-statistic by dividing the means of both samples by the quotient of the standard deviation\n",
    "and the squareroot of the sample size**"
   ]
  },
  {
   "cell_type": "code",
   "execution_count": 9,
   "metadata": {
    "collapsed": false
   },
   "outputs": [
    {
     "name": "stdout",
     "output_type": "stream",
     "text": [
      "The t-statistic is -8.02.\n"
     ]
    }
   ],
   "source": [
    "t_stat = (con_me - inc_me)/(data['diff'].std()/np.sqrt(len(data)))\n",
    "print(\"The t-statistic is %.2f.\" % t_stat)"
   ]
  },
  {
   "cell_type": "markdown",
   "metadata": {},
   "source": [
    "**For an $\\alpha$ of .05 (.025 for two-tail) with 23 degrees of freedom the t-critical value is 2.06866.**<br>\n",
    "**For an $\\alpha$ of .01 (.005 for two-tail) with 23 degrees of freedom the t-critical value is 2.80734.**<br>\n",
    "**For an $\\alpha$ of .005 (.0005 for two-tail) with 23 degrees of freedom the t-critical value is 3.7676.**\n",
    "\n",
    "### This means that for all three values of $\\alpha$ the null hypothesis should be rejected and there is a significant difference between the congruent and incongruent population means.\n",
    "### This result matches my expected outcome."
   ]
  },
  {
   "cell_type": "markdown",
   "metadata": {},
   "source": [
    "## 6. Optional: What do you think is responsible for the effects observed? Can you think of an alternative or similar task that would result in a similar effect? Some research about the problem will be helpful for thinking about these two questions!"
   ]
  },
  {
   "cell_type": "markdown",
   "metadata": {},
   "source": [
    "**Human brains encode some things more easily than others. For instance, when creating a chart, it is better to use color for categorical encoding than shapes. The Stroop effect demonstrates this by showing a dissonance between the shape (letter) and color encodings.**\n",
    "**This phenomenon should be observed in any task that forces the acknowledgement of the least immediate encoding. For instance, performing this experiment spatially with arrows pointing in a certain direction, but the individual must name a quadrant instead of the direction of the arrow.**"
   ]
  }
 ],
 "metadata": {
  "kernelspec": {
   "display_name": "Python 2",
   "language": "python",
   "name": "python2"
  },
  "language_info": {
   "codemirror_mode": {
    "name": "ipython",
    "version": 2
   },
   "file_extension": ".py",
   "mimetype": "text/x-python",
   "name": "python",
   "nbconvert_exporter": "python",
   "pygments_lexer": "ipython2",
   "version": "2.7.13"
  }
 },
 "nbformat": 4,
 "nbformat_minor": 2
}
